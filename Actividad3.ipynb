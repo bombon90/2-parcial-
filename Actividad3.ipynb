{
 "cells": [
  {
   "cell_type": "code",
   "execution_count": null,
   "metadata": {},
   "outputs": [],
   "source": [
    "class Sushi1:\n",
    "    pass \n",
    "\n",
    "class Sushi2(Sushi1):\n",
    "    pass \n",
    "\n",
    "class Sushi3:\n",
    "    pass \n",
    "\n",
    "class sushi4(Sushi3, Sushi2):\n",
    "    pass\n"
   ]
  }
 ],
 "metadata": {
  "language_info": {
   "name": "python"
  }
 },
 "nbformat": 4,
 "nbformat_minor": 2
}
