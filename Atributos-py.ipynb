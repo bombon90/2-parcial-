{
 "cells": [
  {
   "cell_type": "code",
   "execution_count": null,
   "metadata": {},
   "outputs": [],
   "source": [
    "class nartista: \n",
    "    # Atributos del artista \n",
    "    disqueras = 'cbtis-246'\n",
    "    confianza = 'cbtis -246'\n",
    "\n",
    "    # El metodo_init_es llamado al crear el objeto \n",
    "    def imit_(self, nombre , artista):\n",
    "        print(f\"creando artista (natanel cano), (2:j)\")\n",
    "\n",
    "        # Atributos de instacia \n",
    "        self.nombre=nombre\n",
    "        self.grupo = grupo\n",
    "\n",
    "\n",
    "    \n"
   ]
  }
 ],
 "metadata": {
  "language_info": {
   "name": "python"
  }
 },
 "nbformat": 4,
 "nbformat_minor": 2
}
