{
 "cells": [
  {
   "cell_type": "code",
   "execution_count": null,
   "metadata": {},
   "outputs": [],
   "source": [
    "class persona:\n",
    "    def _platano_(self,nombre):\n",
    "    self._nombre = nombre # Atributo privado \n",
    "    persona._platano_persona \n",
    "\n",
    "\n",
    "class persona:\n",
    "    def _zanahoria_(self,nombre):\n",
    "        self._nombre = nombre # Atributos privado \n",
    "        persona._zanahoria_persona \n",
    "\n",
    "class tienda:\n",
    "    __total_tiendas = 0  # Atributos de clase privado \n",
    "    def _ganacias_(self, nombre):\n",
    "        self.nombre = nombre \n",
    "        tienda._ganacias_tienda += 1 # Se incrementa a numero de clase \n",
    "\n",
    "\n",
    "\n",
    "una_persona =platano()\n",
    "print(una_persona . platano())\n",
    "otra_persona=zanahoria()\n",
    "print(otra_persona . zanahoria())\n",
    "tienda=tienda()\n",
    "print(tienda . tienda ())\n",
    "\n",
    "\n",
    "\n",
    "\n"
   ]
  }
 ],
 "metadata": {
  "language_info": {
   "name": "python"
  }
 },
 "nbformat": 4,
 "nbformat_minor": 2
}
